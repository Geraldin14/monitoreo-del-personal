{
  "nbformat": 4,
  "nbformat_minor": 0,
  "metadata": {
    "colab": {
      "provenance": []
    },
    "kernelspec": {
      "name": "python3",
      "display_name": "Python 3"
    },
    "language_info": {
      "name": "python"
    }
  },
  "cells": [
    {
      "cell_type": "code",
      "execution_count": 6,
      "metadata": {
        "colab": {
          "base_uri": "https://localhost:8080/"
        },
        "id": "_Unsz7KPD1aW",
        "outputId": "8509c606-a8f3-43d6-92b1-01b2ff4a1dc2"
      },
      "outputs": [
        {
          "output_type": "stream",
          "name": "stdout",
          "text": [
            "Index(['Nombre', 'Fecha ', 'Sexo', 'Area', 'Condición', 'Sede', 'N.Personal',\n",
            "       'Salario', 'Asigancion.familiar', 'Bono', 'Hora.Extras', 'Ingresos',\n",
            "       'Banco 01', 'Banco 02', 'Neto a pagar', 'ESSALUD', 'Tipo.empleo',\n",
            "       'Capacitaciones', 'Objetivo', 'Satisfacción', 'Indicador 1',\n",
            "       'Indicador 2', 'Indicador 3', 'Indicador 4', 'Indicador 5',\n",
            "       'Indicador 6', 'Indicador 7', 'Indicador 8'],\n",
            "      dtype='object')\n",
            "count       420.000000\n",
            "mean      46185.640405\n",
            "std       48184.660970\n",
            "min         733.330000\n",
            "25%        8635.625000\n",
            "50%       19684.165000\n",
            "75%       84108.117500\n",
            "max      201236.900000\n",
            "Name: Salario, dtype: float64\n",
            "Sexo\n",
            "Masculino    283\n",
            "Femenino     137\n",
            "Name: count, dtype: int64\n",
            "Objetivo\n",
            "Terminado      273\n",
            "No Iniciado     91\n",
            "En Proceso      56\n",
            "Name: count, dtype: int64\n"
          ]
        }
      ],
      "source": [
        "import pandas as pd\n",
        "\n",
        "# EXTRACT\n",
        "df = pd.read_excel(\"data.xlsx\")\n",
        "\n",
        "# TRANSFORM\n",
        "print(df.columns) # Print column names to identify the correct date column\n",
        "df['Fecha '] = pd.to_datetime(df['Fecha '], errors='coerce')\n",
        "df['Indicador 2'] = df['Indicador 2'].str.upper()\n",
        "\n",
        "# Limpieza: eliminar salarios nulos o cero si es necesario\n",
        "df = df[df['Salario'] > 0]\n",
        "\n",
        "# Estadísticas básicas\n",
        "print(df['Salario'].describe())\n",
        "print(df['Sexo'].value_counts())\n",
        "print(df['Objetivo'].value_counts())\n",
        "\n",
        "# LOAD\n",
        "df.to_excel(\"data_transformada.xlsx\", index=False)"
      ]
    }
  ]
}